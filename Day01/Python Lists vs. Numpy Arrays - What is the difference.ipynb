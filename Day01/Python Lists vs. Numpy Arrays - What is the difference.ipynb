{
 "cells": [
  {
   "cell_type": "markdown",
   "id": "bd04fe4f",
   "metadata": {},
   "source": [
    "> <font color='blue'>Python Lists vs. Numpy Arrays - What is the difference?"
   ]
  },
  {
   "cell_type": "markdown",
   "id": "739c932b",
   "metadata": {},
   "source": [
    "Numpy is the core library for scientific computing in Python. It provides a high-performance multidimensional array object, and tools for working with these arrays. A numpy array is a grid of values, all of the same type, and is indexed by a tuple of nonnegative integers. The number of dimensions is the rank of the array; the shape of an array is a tuple of integers giving the size of the array along each dimension.\n",
    "\n",
    "The Python core library provided Lists. A list is the Python equivalent of an array, but is resizeable and can contain elements of different types."
   ]
  },
  {
   "cell_type": "markdown",
   "id": "b684a6bb",
   "metadata": {},
   "source": [
    "+ <font color='blue'>A common beginner question is what is the real difference here. The answer is performance. Numpy data structures perform better in:</font>\n",
    "\n",
    "> <font color='red'>Size - </font>\n",
    "\n",
    "Numpy data structures take up less space\n",
    "> <font color='red'>Performance - </font>\n",
    "\n",
    "they have a need for speed and are faster than lists\n",
    "> <font color='red'>Functionality - </font>\n",
    "\n",
    "SciPy and NumPy have optimized functions such as linear algebra operations built in."
   ]
  },
  {
   "cell_type": "markdown",
   "id": "e55058fc",
   "metadata": {},
   "source": [
    "**To overcome this problem, we use NumPy arrays that contain only homogeneous elements, i.e. elements having the same data type**. This makes it more efficient at storing and manipulating the array. This difference becomes apparent when the array has a large number of elements, say thousands or millions. **Also, with NumPy arrays, you can perform element-wise operations, something which is not possible using Python lists!**\n",
    "\n",
    "This is the reason why NumPy arrays are preferred over Python lists when performing mathematical operations on a large amount of data."
   ]
  },
  {
   "cell_type": "code",
   "execution_count": null,
   "id": "d6a301c1",
   "metadata": {},
   "outputs": [],
   "source": []
  }
 ],
 "metadata": {
  "kernelspec": {
   "display_name": "Python 3",
   "language": "python",
   "name": "python3"
  },
  "language_info": {
   "codemirror_mode": {
    "name": "ipython",
    "version": 3
   },
   "file_extension": ".py",
   "mimetype": "text/x-python",
   "name": "python",
   "nbconvert_exporter": "python",
   "pygments_lexer": "ipython3",
   "version": "3.8.8"
  }
 },
 "nbformat": 4,
 "nbformat_minor": 5
}
